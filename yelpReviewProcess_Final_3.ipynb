{
 "cells": [
  {
   "cell_type": "code",
   "execution_count": 1,
   "metadata": {},
   "outputs": [],
   "source": [
    "import pandas as pd\n",
    "import numpy as np\n",
    "import mysql.connector"
   ]
  },
  {
   "cell_type": "markdown",
   "metadata": {},
   "source": [
    "Drop Review MYSQL Table if exists"
   ]
  },
  {
   "cell_type": "code",
   "execution_count": 2,
   "metadata": {},
   "outputs": [],
   "source": [
    "db_connection = mysql.connector.connect(user=\"admin\", password=\"yeet\")\n",
    "db_cursor = db_connection.cursor()\n",
    "db_cursor.execute(\"USE cs179g;\")\n",
    "db_cursor.execute(\"DROP TABLE IF EXISTS Review;\")\n",
    "db_cursor.execute(\"DROP TABLE IF EXISTS BusinessSentiment;\")\n"
   ]
  },
  {
   "cell_type": "markdown",
   "metadata": {},
   "source": [
    "Read from parquet file"
   ]
  },
  {
   "cell_type": "code",
   "execution_count": 3,
   "metadata": {},
   "outputs": [],
   "source": [
    "reivew_df = pd.read_parquet('/home/ubuntu/data/pred_avg.parquet.gzip')"
   ]
  },
  {
   "cell_type": "markdown",
   "metadata": {},
   "source": [
    "Times the average prediction column by 10 to get the rating"
   ]
  },
  {
   "cell_type": "code",
   "execution_count": 4,
   "metadata": {},
   "outputs": [
    {
     "data": {
      "text/html": [
       "<div>\n",
       "<style scoped>\n",
       "    .dataframe tbody tr th:only-of-type {\n",
       "        vertical-align: middle;\n",
       "    }\n",
       "\n",
       "    .dataframe tbody tr th {\n",
       "        vertical-align: top;\n",
       "    }\n",
       "\n",
       "    .dataframe thead th {\n",
       "        text-align: right;\n",
       "    }\n",
       "</style>\n",
       "<table border=\"1\" class=\"dataframe\">\n",
       "  <thead>\n",
       "    <tr style=\"text-align: right;\">\n",
       "      <th></th>\n",
       "      <th>business_id</th>\n",
       "      <th>Rating</th>\n",
       "    </tr>\n",
       "  </thead>\n",
       "  <tbody>\n",
       "    <tr>\n",
       "      <th>0</th>\n",
       "      <td>2y_CdkxEOJEJGyJApfCYpA</td>\n",
       "      <td>2.97</td>\n",
       "    </tr>\n",
       "    <tr>\n",
       "      <th>1</th>\n",
       "      <td>jIBjZcqVOU4pOVT-sVQcfA</td>\n",
       "      <td>4.36</td>\n",
       "    </tr>\n",
       "    <tr>\n",
       "      <th>2</th>\n",
       "      <td>TuRy46Cyb7MWjV7VM8VNYg</td>\n",
       "      <td>3.25</td>\n",
       "    </tr>\n",
       "    <tr>\n",
       "      <th>3</th>\n",
       "      <td>Ryt1Fhgz7sixMQSJiLyP_g</td>\n",
       "      <td>3.55</td>\n",
       "    </tr>\n",
       "    <tr>\n",
       "      <th>4</th>\n",
       "      <td>q6661I3CGW0UB740E5Zjfw</td>\n",
       "      <td>3.91</td>\n",
       "    </tr>\n",
       "    <tr>\n",
       "      <th>...</th>\n",
       "      <td>...</td>\n",
       "      <td>...</td>\n",
       "    </tr>\n",
       "    <tr>\n",
       "      <th>150341</th>\n",
       "      <td>E9vGiqTPzu1_DQ85K0J3Lw</td>\n",
       "      <td>8.00</td>\n",
       "    </tr>\n",
       "    <tr>\n",
       "      <th>150342</th>\n",
       "      <td>9dPyvmwBmyAEkxd5BkRSuQ</td>\n",
       "      <td>8.00</td>\n",
       "    </tr>\n",
       "    <tr>\n",
       "      <th>150343</th>\n",
       "      <td>II1ZGMmA0BLGV-EmhPkrEA</td>\n",
       "      <td>3.33</td>\n",
       "    </tr>\n",
       "    <tr>\n",
       "      <th>150344</th>\n",
       "      <td>g48DB4oZZU3mD5D1e6l2VA</td>\n",
       "      <td>4.00</td>\n",
       "    </tr>\n",
       "    <tr>\n",
       "      <th>150345</th>\n",
       "      <td>RqGy-1ug4nJqSpMKxvDwSA</td>\n",
       "      <td>0.00</td>\n",
       "    </tr>\n",
       "  </tbody>\n",
       "</table>\n",
       "<p>150346 rows × 2 columns</p>\n",
       "</div>"
      ],
      "text/plain": [
       "                   business_id  Rating\n",
       "0       2y_CdkxEOJEJGyJApfCYpA    2.97\n",
       "1       jIBjZcqVOU4pOVT-sVQcfA    4.36\n",
       "2       TuRy46Cyb7MWjV7VM8VNYg    3.25\n",
       "3       Ryt1Fhgz7sixMQSJiLyP_g    3.55\n",
       "4       q6661I3CGW0UB740E5Zjfw    3.91\n",
       "...                        ...     ...\n",
       "150341  E9vGiqTPzu1_DQ85K0J3Lw    8.00\n",
       "150342  9dPyvmwBmyAEkxd5BkRSuQ    8.00\n",
       "150343  II1ZGMmA0BLGV-EmhPkrEA    3.33\n",
       "150344  g48DB4oZZU3mD5D1e6l2VA    4.00\n",
       "150345  RqGy-1ug4nJqSpMKxvDwSA    0.00\n",
       "\n",
       "[150346 rows x 2 columns]"
      ]
     },
     "metadata": {},
     "output_type": "display_data"
    }
   ],
   "source": [
    "\n",
    "reivew_df[\"avg(prediction)\"] *= 10\n",
    "reivew_df[\"avg(prediction)\"] = reivew_df[\"avg(prediction)\"].round(2)\n",
    "reivew_df.rename(columns = {'avg(prediction)':'Rating'}, inplace = True)\n",
    "display(reivew_df)\n",
    "\n",
    "\n",
    "# Connect to MYSQL Database\n",
    "db_connection = mysql.connector.connect(user=\"admin\", password=\"yeet\")\n",
    "db_cursor = db_connection.cursor()\n",
    "db_cursor.execute(\"USE cs179g;\")\n"
   ]
  },
  {
   "cell_type": "markdown",
   "metadata": {},
   "source": [
    "Iterate throught the dataframe and insert into the MYSQL Review database"
   ]
  },
  {
   "cell_type": "code",
   "execution_count": 5,
   "metadata": {},
   "outputs": [],
   "source": [
    "\n",
    "# Create Review Table in MYSQL Database\n",
    "db_cursor.execute(\"CREATE TABLE IF NOT EXISTS Review(business_id VARCHAR(255), Rating VARCHAR(5));\")\n",
    "\n",
    "for index, row in reivew_df.iterrows():\n",
    "    temp2 = []\n",
    "    for i in row:\n",
    "        if(len(str(i)) > 255):\n",
    "            temp = str(i)\n",
    "            temp = temp[:255]\n",
    "            temp2.append(str(temp))\n",
    "        else:\n",
    "            temp2.append(str(i))\n",
    "    temp2 = tuple(temp2)\n",
    "    command = \"INSERT INTO Review (business_id, Rating) VALUES (%s, %s);\"\n",
    "    db_cursor.execute(command, temp2)\n",
    "\n",
    "\n"
   ]
  },
  {
   "cell_type": "code",
   "execution_count": 6,
   "metadata": {},
   "outputs": [
    {
     "name": "stdout",
     "output_type": "stream",
     "text": [
      "<class 'list'>\n"
     ]
    }
   ],
   "source": [
    "db_cursor.execute(\"FLUSH TABLES;\")\n",
    "db_cursor.execute(\"SELECT * FROM Review LIMIT 5;\")\n",
    "print(type(db_cursor.fetchall()))"
   ]
  },
  {
   "cell_type": "markdown",
   "metadata": {},
   "source": [
    "Join Business and Review Table"
   ]
  },
  {
   "cell_type": "code",
   "execution_count": 7,
   "metadata": {},
   "outputs": [
    {
     "ename": "ProgrammingError",
     "evalue": "1050 (42S01): Table 'BusinessSentiment' already exists",
     "output_type": "error",
     "traceback": [
      "\u001b[0;31m---------------------------------------------------------------------------\u001b[0m",
      "\u001b[0;31mMySQLInterfaceError\u001b[0m                       Traceback (most recent call last)",
      "File \u001b[0;32m~/cs179g/lib/python3.10/site-packages/mysql/connector/connection_cext.py:565\u001b[0m, in \u001b[0;36mCMySQLConnection.cmd_query\u001b[0;34m(self, query, raw, buffered, raw_as_string)\u001b[0m\n\u001b[1;32m    564\u001b[0m         query \u001b[39m=\u001b[39m query\u001b[39m.\u001b[39mencode(\u001b[39m\"\u001b[39m\u001b[39mutf-8\u001b[39m\u001b[39m\"\u001b[39m)\n\u001b[0;32m--> 565\u001b[0m     \u001b[39mself\u001b[39;49m\u001b[39m.\u001b[39;49m_cmysql\u001b[39m.\u001b[39;49mquery(\n\u001b[1;32m    566\u001b[0m         query,\n\u001b[1;32m    567\u001b[0m         raw\u001b[39m=\u001b[39;49mraw,\n\u001b[1;32m    568\u001b[0m         buffered\u001b[39m=\u001b[39;49mbuffered,\n\u001b[1;32m    569\u001b[0m         raw_as_string\u001b[39m=\u001b[39;49mraw_as_string,\n\u001b[1;32m    570\u001b[0m         query_attrs\u001b[39m=\u001b[39;49m\u001b[39mself\u001b[39;49m\u001b[39m.\u001b[39;49m_query_attrs,\n\u001b[1;32m    571\u001b[0m     )\n\u001b[1;32m    572\u001b[0m \u001b[39mexcept\u001b[39;00m MySQLInterfaceError \u001b[39mas\u001b[39;00m err:\n",
      "\u001b[0;31mMySQLInterfaceError\u001b[0m: Table 'BusinessSentiment' already exists",
      "\nThe above exception was the direct cause of the following exception:\n",
      "\u001b[0;31mProgrammingError\u001b[0m                          Traceback (most recent call last)",
      "Cell \u001b[0;32mIn [7], line 1\u001b[0m\n\u001b[0;32m----> 1\u001b[0m db_cursor\u001b[39m.\u001b[39;49mexecute(\u001b[39m\"\u001b[39;49m\u001b[39mCREATE TABLE BusinessSentiment AS \u001b[39;49m\u001b[39m\\\u001b[39;49;00m\n\u001b[1;32m      2\u001b[0m \u001b[39m(SELECT Business.name, Business.postal_code, Business.latitide, Business.longitude, Review.Rating \u001b[39;49m\u001b[39m\\\u001b[39;49;00m\n\u001b[1;32m      3\u001b[0m \u001b[39mFROM Business \u001b[39;49m\u001b[39m\\\u001b[39;49;00m\n\u001b[1;32m      4\u001b[0m \u001b[39mINNER JOIN Review ON Review.business_id=Business.business_id);\u001b[39;49m\u001b[39m\"\u001b[39;49m)\n",
      "File \u001b[0;32m~/cs179g/lib/python3.10/site-packages/mysql/connector/cursor_cext.py:279\u001b[0m, in \u001b[0;36mCMySQLCursor.execute\u001b[0;34m(self, operation, params, multi)\u001b[0m\n\u001b[1;32m    274\u001b[0m             \u001b[39mraise\u001b[39;00m ProgrammingError(\n\u001b[1;32m    275\u001b[0m                 \u001b[39m\"\u001b[39m\u001b[39mNot all parameters were used in the SQL statement\u001b[39m\u001b[39m\"\u001b[39m\n\u001b[1;32m    276\u001b[0m             )\n\u001b[1;32m    278\u001b[0m \u001b[39mtry\u001b[39;00m:\n\u001b[0;32m--> 279\u001b[0m     result \u001b[39m=\u001b[39m \u001b[39mself\u001b[39;49m\u001b[39m.\u001b[39;49m_cnx\u001b[39m.\u001b[39;49mcmd_query(\n\u001b[1;32m    280\u001b[0m         stmt,\n\u001b[1;32m    281\u001b[0m         raw\u001b[39m=\u001b[39;49m\u001b[39mself\u001b[39;49m\u001b[39m.\u001b[39;49m_raw,\n\u001b[1;32m    282\u001b[0m         buffered\u001b[39m=\u001b[39;49m\u001b[39mself\u001b[39;49m\u001b[39m.\u001b[39;49m_buffered,\n\u001b[1;32m    283\u001b[0m         raw_as_string\u001b[39m=\u001b[39;49m\u001b[39mself\u001b[39;49m\u001b[39m.\u001b[39;49m_raw_as_string,\n\u001b[1;32m    284\u001b[0m     )\n\u001b[1;32m    285\u001b[0m \u001b[39mexcept\u001b[39;00m MySQLInterfaceError \u001b[39mas\u001b[39;00m err:\n\u001b[1;32m    286\u001b[0m     \u001b[39mraise\u001b[39;00m get_mysql_exception(\n\u001b[1;32m    287\u001b[0m         msg\u001b[39m=\u001b[39merr\u001b[39m.\u001b[39mmsg, errno\u001b[39m=\u001b[39merr\u001b[39m.\u001b[39merrno, sqlstate\u001b[39m=\u001b[39merr\u001b[39m.\u001b[39msqlstate\n\u001b[1;32m    288\u001b[0m     ) \u001b[39mfrom\u001b[39;00m \u001b[39merr\u001b[39;00m\n",
      "File \u001b[0;32m~/cs179g/lib/python3.10/site-packages/mysql/connector/connection_cext.py:573\u001b[0m, in \u001b[0;36mCMySQLConnection.cmd_query\u001b[0;34m(self, query, raw, buffered, raw_as_string)\u001b[0m\n\u001b[1;32m    565\u001b[0m     \u001b[39mself\u001b[39m\u001b[39m.\u001b[39m_cmysql\u001b[39m.\u001b[39mquery(\n\u001b[1;32m    566\u001b[0m         query,\n\u001b[1;32m    567\u001b[0m         raw\u001b[39m=\u001b[39mraw,\n\u001b[0;32m   (...)\u001b[0m\n\u001b[1;32m    570\u001b[0m         query_attrs\u001b[39m=\u001b[39m\u001b[39mself\u001b[39m\u001b[39m.\u001b[39m_query_attrs,\n\u001b[1;32m    571\u001b[0m     )\n\u001b[1;32m    572\u001b[0m \u001b[39mexcept\u001b[39;00m MySQLInterfaceError \u001b[39mas\u001b[39;00m err:\n\u001b[0;32m--> 573\u001b[0m     \u001b[39mraise\u001b[39;00m get_mysql_exception(\n\u001b[1;32m    574\u001b[0m         err\u001b[39m.\u001b[39merrno, msg\u001b[39m=\u001b[39merr\u001b[39m.\u001b[39mmsg, sqlstate\u001b[39m=\u001b[39merr\u001b[39m.\u001b[39msqlstate\n\u001b[1;32m    575\u001b[0m     ) \u001b[39mfrom\u001b[39;00m \u001b[39merr\u001b[39;00m\n\u001b[1;32m    576\u001b[0m \u001b[39mexcept\u001b[39;00m \u001b[39mAttributeError\u001b[39;00m \u001b[39mas\u001b[39;00m err:\n\u001b[1;32m    577\u001b[0m     addr \u001b[39m=\u001b[39m (\n\u001b[1;32m    578\u001b[0m         \u001b[39mself\u001b[39m\u001b[39m.\u001b[39m_unix_socket \u001b[39mif\u001b[39;00m \u001b[39mself\u001b[39m\u001b[39m.\u001b[39m_unix_socket \u001b[39melse\u001b[39;00m \u001b[39mf\u001b[39m\u001b[39m\"\u001b[39m\u001b[39m{\u001b[39;00m\u001b[39mself\u001b[39m\u001b[39m.\u001b[39m_host\u001b[39m}\u001b[39;00m\u001b[39m:\u001b[39m\u001b[39m{\u001b[39;00m\u001b[39mself\u001b[39m\u001b[39m.\u001b[39m_port\u001b[39m}\u001b[39;00m\u001b[39m\"\u001b[39m\n\u001b[1;32m    579\u001b[0m     )\n",
      "\u001b[0;31mProgrammingError\u001b[0m: 1050 (42S01): Table 'BusinessSentiment' already exists"
     ]
    }
   ],
   "source": [
    "db_cursor.execute(\"CREATE TABLE BusinessSentiment AS \\\n",
    "(SELECT Business.name, Business.postal_code, Business.latitide, Business.longitude, Review.Rating \\\n",
    "FROM Business \\\n",
    "INNER JOIN Review ON Review.business_id=Business.business_id);\")"
   ]
  }
 ],
 "metadata": {
  "kernelspec": {
   "display_name": "Python 3.10.6 ('cs179g': venv)",
   "language": "python",
   "name": "python3"
  },
  "language_info": {
   "codemirror_mode": {
    "name": "ipython",
    "version": 3
   },
   "file_extension": ".py",
   "mimetype": "text/x-python",
   "name": "python",
   "nbconvert_exporter": "python",
   "pygments_lexer": "ipython3",
   "version": "3.10.6"
  },
  "orig_nbformat": 4,
  "vscode": {
   "interpreter": {
    "hash": "1eda9de564ca819c8df067369fe7bf3e36810b983e2f5472ac3673e92a7362da"
   }
  }
 },
 "nbformat": 4,
 "nbformat_minor": 2
}
