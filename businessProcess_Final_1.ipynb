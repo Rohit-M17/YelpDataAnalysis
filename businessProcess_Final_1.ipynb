{
 "cells": [
  {
   "cell_type": "code",
   "execution_count": 1,
   "metadata": {},
   "outputs": [],
   "source": [
    "import pandas as pd\n",
    "import numpy as np\n",
    "import mysql.connector\n",
    "from pyspark.sql import SparkSession"
   ]
  },
  {
   "cell_type": "markdown",
   "metadata": {},
   "source": [
    "Drop Business Table if Exists"
   ]
  },
  {
   "cell_type": "code",
   "execution_count": 3,
   "metadata": {},
   "outputs": [],
   "source": [
    "db_connection = mysql.connector.connect(user=\"admin\", password=\"yeet\")\n",
    "db_cursor = db_connection.cursor()\n",
    "db_cursor.execute(\"USE cs179g;\")\n",
    "db_cursor.execute(\"DROP TABLE IF EXISTS Business;\")"
   ]
  },
  {
   "cell_type": "markdown",
   "metadata": {},
   "source": [
    "Load Json file into Pandas Dataframe and then iterate through it to insert into MYSQL Table (Business)."
   ]
  },
  {
   "cell_type": "code",
   "execution_count": 4,
   "metadata": {},
   "outputs": [],
   "source": [
    "# Test CSV file read with Pandas (not required in this project)\n",
    "businessData = pd.read_json(\"/home/ubuntu/data/yelp_academic_dataset_business.json\", lines=True)\n",
    "businessData = businessData.fillna(\"Empty Value\")\n",
    "\n",
    "# Create a table in MySQL and run a simple SELECT query to verify\n",
    "db_connection = mysql.connector.connect(user=\"admin\", password=\"yeet\")\n",
    "db_cursor = db_connection.cursor()\n",
    "db_cursor.execute(\"USE cs179g;\")\n",
    "\n",
    "\n",
    "# db_cursor.execute(\"CREATE TABLE IF NOT EXISTS Business(business_id VARCHAR(255), name VARCHAR(255), \\\n",
    "#                    address VARCHAR(255), city VARCHAR(255), state VARCHAR(255), \\\n",
    "#                    postal_code VARCHAR(255), latitide VARCHAR(255), longitude VARCHAR(255), stars VARCHAR(255), \\\n",
    "#                    review_count VARCHAR(255), is_open VARCHAR(255), attributes VARCHAR(255), categories VARCHAR(255), hours VARCHAR(255));\")\n",
    "\n",
    "db_cursor.execute(\"CREATE TABLE IF NOT EXISTS Business(business_id VARCHAR(255), name VARCHAR(255), \\\n",
    "                    address VARCHAR(255), city VARCHAR(255), state VARCHAR(255), \\\n",
    "                    postal_code VARCHAR(255), latitide VARCHAR(255), longitude VARCHAR(255), stars VARCHAR(255), \\\n",
    "                    review_count VARCHAR(255), is_open VARCHAR(255), attributes VARCHAR(600), categories VARCHAR(255), hours VARCHAR(255));\")\n",
    "\n",
    "\n",
    "for index, row in businessData.iterrows():\n",
    "    temp2 = []\n",
    "    for i in row:\n",
    "        if(len(str(i)) > 255):\n",
    "            temp = str(i)\n",
    "            temp = temp[:255]\n",
    "            temp2.append(str(temp))\n",
    "        else:\n",
    "            temp2.append(str(i))\n",
    "            \n",
    "        \n",
    "    temp2 = tuple(temp2)\n",
    "    # temp1 = (str(row[\"business_id\"]), str(row[\"name\"]))\n",
    "\n",
    "    # if entry.endswith(', '):\n",
    "    #     entry = entry[:-2]\n",
    "    # try:\n",
    "    command = \"INSERT INTO Business (business_id, name, address, city, state, postal_code, latitide, longitude, stars, review_count, is_open, attributes, categories, hours) VALUES (%s, %s, %s, %s, %s, %s, %s, %s, %s, %s, %s, %s, %s, %s);\"\n",
    "    db_cursor.execute(command, temp2)\n",
    "    # except mysql.connector.Error as error:\n",
    "    #     print(\"Failed to insert into MySQL table {}\".format(error))\n",
    " \n",
    "\n",
    "\n",
    "\n",
    "                #    address, city, state, \\\n",
    "                #    postal_code, latitide, longitude , stars, \\\n",
    "                #    review_count, is_open, attributes, categories, hours) VALUES \" + entry + \";\")\n",
    "    # db_cursor.execute(\"INSERT INTO Business(business_id)\" + entry + \";\")\n",
    "\n",
    "# for bt in business_tuples[0:1]:\n",
    "#     tempString = \"\"\n",
    "#     for b in bt:\n",
    "#         b = str(b)\n",
    "#         b = b.replace(\",\" , \"\\,\")\n",
    "#         tempString += \"\\'\" + (b) + \"\\',\"\n",
    "#     print(tempString)\n",
    "\n",
    "# db_cursor.execute(\"FLUSH TABLES;\")\n",
    "# db_cursor.execute(\"SELECT * FROM Business LIMIT 5;\")\n",
    "# print(db_cursor.fetchall())\n",
    "\n",
    "\n",
    "\n",
    "# spark = SparkSession.builder.config(\"spark.jars\", \"/usr/share/java/mysql-connector-j-8.0.31.jar\") \\\n",
    "#     .master(\"local\").appName(\"PySpark_MySQL_test\").getOrCreate()\n",
    "\n",
    "# business_df = spark.read.format(\"jdbc\").option(\"url\", \"jdbc:mysql://localhost:3306/cs179g\") \\\n",
    "#     .option(\"driver\", \"com.mysql.jdbc.Driver\").option(\"dbtable\", \"Business\") \\\n",
    "#     .option(\"user\", \"admin\").option(\"password\", \"yeet\").load()\n",
    "# print(business_df)"
   ]
  },
  {
   "cell_type": "code",
   "execution_count": 5,
   "metadata": {},
   "outputs": [
    {
     "name": "stdout",
     "output_type": "stream",
     "text": [
      "[('Pns2l4eNsfO8kk83dixA6A', 'Abby Rappoport, LAC, CMQ', '1616 Chapala St, Ste 2', 'Santa Barbara', 'CA', '93101', '34.4266787', '-119.7111968', '5.0', '7', '0', \"{'ByAppointmentOnly': 'True'}\", 'Doctors, Traditional Chinese Medicine, Naturopathic/Holistic, Acupuncture, Health & Medical, Nutritionists', 'Empty Value'), ('mpf3x-BjTdTEA3yCZrAYPw', 'The UPS Store', '87 Grasso Plaza Shopping Center', 'Affton', 'MO', '63123', '38.551126', '-90.335695', '3.0', '15', '1', \"{'BusinessAcceptsCreditCards': 'True'}\", 'Shipping Centers, Local Services, Notaries, Mailbox Centers, Printing Services', \"{'Monday': '0:0-0:0', 'Tuesday': '8:0-18:30', 'Wednesday': '8:0-18:30', 'Thursday': '8:0-18:30', 'Friday': '8:0-18:30', 'Saturday': '8:0-14:0'}\"), ('tUFrWirKiKi_TAnsVWINQQ', 'Target', '5255 E Broadway Blvd', 'Tucson', 'AZ', '85711', '32.223236', '-110.880452', '3.5', '22', '0', '{\\'BikeParking\\': \\'True\\', \\'BusinessAcceptsCreditCards\\': \\'True\\', \\'RestaurantsPriceRange2\\': \\'2\\', \\'CoatCheck\\': \\'False\\', \\'RestaurantsTakeOut\\': \\'False\\', \\'RestaurantsDelivery\\': \\'False\\', \\'Caters\\': \\'False\\', \\'WiFi\\': \"u\\'no\\'\", \\'BusinessParking\\': \"{\\'garage\\': False, \\'st', 'Department Stores, Shopping, Fashion, Home & Garden, Electronics, Furniture Stores', \"{'Monday': '8:0-22:0', 'Tuesday': '8:0-22:0', 'Wednesday': '8:0-22:0', 'Thursday': '8:0-22:0', 'Friday': '8:0-23:0', 'Saturday': '8:0-23:0', 'Sunday': '8:0-22:0'}\"), ('MTSW4McQd7CbVtyjqoe9mw', 'St Honore Pastries', '935 Race St', 'Philadelphia', 'PA', '19107', '39.9555052', '-75.1555641', '4.0', '80', '1', '{\\'RestaurantsDelivery\\': \\'False\\', \\'OutdoorSeating\\': \\'False\\', \\'BusinessAcceptsCreditCards\\': \\'False\\', \\'BusinessParking\\': \"{\\'garage\\': False, \\'street\\': True, \\'validated\\': False, \\'lot\\': False, \\'valet\\': False}\", \\'BikeParking\\': \\'True\\', \\'RestaurantsPriceRange2\\': \\'', 'Restaurants, Food, Bubble Tea, Coffee & Tea, Bakeries', \"{'Monday': '7:0-20:0', 'Tuesday': '7:0-20:0', 'Wednesday': '7:0-20:0', 'Thursday': '7:0-20:0', 'Friday': '7:0-21:0', 'Saturday': '7:0-21:0', 'Sunday': '7:0-21:0'}\"), ('mWMc6_wTdE0EUBKIGXDVfA', 'Perkiomen Valley Brewery', '101 Walnut St', 'Green Lane', 'PA', '18054', '40.3381827', '-75.4716585', '4.5', '13', '1', '{\\'BusinessAcceptsCreditCards\\': \\'True\\', \\'WheelchairAccessible\\': \\'True\\', \\'RestaurantsTakeOut\\': \\'True\\', \\'BusinessParking\\': \"{\\'garage\\': None, \\'street\\': None, \\'validated\\': None, \\'lot\\': True, \\'valet\\': False}\", \\'BikeParking\\': \\'True\\', \\'GoodForKids\\': \\'True\\', \\'Cate', 'Brewpubs, Breweries, Food', \"{'Wednesday': '14:0-22:0', 'Thursday': '16:0-22:0', 'Friday': '12:0-22:0', 'Saturday': '12:0-22:0', 'Sunday': '12:0-18:0'}\")]\n"
     ]
    }
   ],
   "source": [
    "db_cursor.execute(\"FLUSH TABLES;\")\n",
    "db_cursor.execute(\"SELECT * FROM Business LIMIT 5;\")\n",
    "print(db_cursor.fetchall())"
   ]
  },
  {
   "cell_type": "code",
   "execution_count": null,
   "metadata": {},
   "outputs": [],
   "source": []
  }
 ],
 "metadata": {
  "kernelspec": {
   "display_name": "Python 3.10.6 ('cs179g': venv)",
   "language": "python",
   "name": "python3"
  },
  "language_info": {
   "codemirror_mode": {
    "name": "ipython",
    "version": 3
   },
   "file_extension": ".py",
   "mimetype": "text/x-python",
   "name": "python",
   "nbconvert_exporter": "python",
   "pygments_lexer": "ipython3",
   "version": "3.10.6"
  },
  "orig_nbformat": 4,
  "vscode": {
   "interpreter": {
    "hash": "1eda9de564ca819c8df067369fe7bf3e36810b983e2f5472ac3673e92a7362da"
   }
  }
 },
 "nbformat": 4,
 "nbformat_minor": 2
}
